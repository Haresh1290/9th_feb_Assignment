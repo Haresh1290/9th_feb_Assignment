{
 "cells": [
  {
   "cell_type": "code",
   "execution_count": 2,
   "id": "b31ffbf1-976a-4e32-a3f4-b6f59ffa8f68",
   "metadata": {},
   "outputs": [],
   "source": [
    "#Problerm_1\n",
    "class vehicle:\n",
    "    \n",
    "    def __init__(self,name_of_vehicle,max_speed,average_of_vehicle):\n",
    "        self.name_of_vehicle = name_of_vehicle\n",
    "        self.max_speed = max_speed\n",
    "        self.average_of_vehicle = average_of_vehicle\n",
    "        \n",
    "    def return_vehicle_details(self):\n",
    "        return  self.name_of_vehicle,self.max_speed,self.average_of_vehicle"
   ]
  },
  {
   "cell_type": "code",
   "execution_count": 3,
   "id": "b2a00a05-ab94-4d0a-bec6-0eeafb0ff4e9",
   "metadata": {},
   "outputs": [],
   "source": [
    "#Problem_2\n",
    "class vehicle:\n",
    "    \n",
    "    def __init__(self,name_of_vehicle,max_speed,average_of_vehicle):\n",
    "        self.name_of_vehicle = name_of_vehicle\n",
    "        self.max_speed = max_speed\n",
    "        self.average_of_vehicle = average_of_vehicl\n",
    "        \n",
    "    def seating_capacity(self, capacity):\n",
    "        return f\"The seating capacity of a {self.name_of_vehicle} is {capacity} passengers\""
   ]
  },
  {
   "cell_type": "code",
   "execution_count": 5,
   "id": "0751df42-6370-486a-86a9-43f55cd6696c",
   "metadata": {},
   "outputs": [
    {
     "name": "stdout",
     "output_type": "stream",
     "text": [
      "Mammals can give direct birth.\n",
      "Winged animals can flap.\n"
     ]
    }
   ],
   "source": [
    "#Problem_3\n",
    "\n",
    "#A class can be derived from more than one superclass in Python. This is called multiple inheritance.\n",
    "#For example, A class Bat is derived from superclasses Mammal and WingedAnimal. It makes sense because \n",
    "#bat is a mammal as well as a winged animal.\n",
    "\n",
    "#class SuperClass1:\n",
    "    # features of SuperClass1\n",
    "\n",
    "#class SuperClass2:\n",
    "    # features of SuperClass2\n",
    "\n",
    "#class MultiDerived(SuperClass1, SuperClass2):\n",
    "    # features of SuperClass1 + SuperClass2 + MultiDerived class\n",
    "    \n",
    "\n",
    "class Mammal:\n",
    "    def mammal_info(self):\n",
    "        print(\"Mammals can give direct birth.\")\n",
    "\n",
    "class WingedAnimal:\n",
    "    def winged_animal_info(self):\n",
    "        print(\"Winged animals can flap.\")\n",
    "\n",
    "class Bat(Mammal, WingedAnimal):\n",
    "    pass\n",
    "\n",
    "# create an object of Bat class\n",
    "b1 = Bat()\n",
    "\n",
    "b1.mammal_info()\n",
    "b1.winged_animal_info()"
   ]
  },
  {
   "cell_type": "code",
   "execution_count": 8,
   "id": "a2976b6d-55b1-4d46-b1bb-fc60894c0df5",
   "metadata": {},
   "outputs": [
    {
     "name": "stdout",
     "output_type": "stream",
     "text": [
      "21\n",
      "21\n"
     ]
    }
   ],
   "source": [
    "#Problem_4\n",
    "\"\"\"\n",
    "In Python, getters and setters are not the same as those in other object-oriented programming languages.\n",
    "Basically, the main purpose of using getters and setters in object-oriented programs is to ensure data encapsulation. \n",
    "Private variables in python are not actually hidden fields like in other object oriented languages. \n",
    "Getters and Setters in python are often used when:\n",
    "\n",
    "We use getters & setters to add validation logic around getting and setting a value.\n",
    "To avoid direct access of a class field i.e. private variables cannot be accessed directly or modified by external user.\n",
    "Using normal function to achieve getters and setters behaviour\n",
    "\n",
    "To achieve getters & setters property, \n",
    "if we define normal get() and set() methods it will not reflect any special implementation.\n",
    "For Example\n",
    "\"\"\"\n",
    "\n",
    "# Python program showing a use\n",
    "# of get() and set() method in\n",
    "# normal function\n",
    "\n",
    "class Geek:\n",
    "\tdef __init__(self, age = 0):\n",
    "\t\tself._age = age\n",
    "\t\n",
    "\t# getter method\n",
    "\tdef get_age(self):\n",
    "\t\treturn self._age\n",
    "\t\n",
    "\t# setter method\n",
    "\tdef set_age(self, x):\n",
    "\t\tself._age = x\n",
    "\n",
    "harry = Geek()\n",
    "\n",
    "# setting the age using setter\n",
    "harry.set_age(21)\n",
    "\n",
    "# retrieving age using getter\n",
    "print(harry.get_age())\n",
    "\n",
    "print(harry._age)\n"
   ]
  },
  {
   "cell_type": "code",
   "execution_count": 9,
   "id": "9e7ed4e0-1c7c-4aa4-9c3a-f497df3c6a99",
   "metadata": {},
   "outputs": [
    {
     "name": "stdout",
     "output_type": "stream",
     "text": [
      "Inside Parent\n",
      "Inside Child\n"
     ]
    }
   ],
   "source": [
    "#Problem_5\n",
    "\"\"\"\n",
    "Method overriding is an ability of any object-oriented programming language that allows a \n",
    "subclass or child class to provide a specific implementation of a method that is already \n",
    "provided by one of its super-classes or parent classes. When a method in a subclass has \n",
    "the same name, same parameters or signature and same return type(or sub-type) as a method \n",
    "in its super-class, then the method in the subclass is said to override the method in the super-class.\n",
    "The version of a method that is executed will be determined by the object that is used to invoke it. \n",
    "If an object of a parent class is used to invoke the method, then the version in the parent class \n",
    "will be executed, but if an object of the subclass is used to invoke the method, then the version \n",
    "in the child class will be executed. In other words, it is the type of the object being referred \n",
    "to (not the type of the reference variable) that determines which version of an overridden method \n",
    "will be executed.\n",
    "\n",
    "\"\"\"\n",
    "\n",
    "# Python program to demonstrate\n",
    "# method overriding\n",
    "\n",
    "\n",
    "# Defining parent class\n",
    "class Parent():\n",
    "\t\n",
    "\t# Constructor\n",
    "\tdef __init__(self):\n",
    "\t\tself.value = \"Inside Parent\"\n",
    "\t\t\n",
    "\t# Parent's show method\n",
    "\tdef show(self):\n",
    "\t\tprint(self.value)\n",
    "\t\t\n",
    "# Defining child class\n",
    "class Child(Parent):\n",
    "\t\n",
    "\t# Constructor\n",
    "\tdef __init__(self):\n",
    "\t\tself.value = \"Inside Child\"\n",
    "\t\t\n",
    "\t# Child's show method\n",
    "\tdef show(self):\n",
    "\t\tprint(self.value)\n",
    "\t\t\n",
    "\t\t\n",
    "# Driver's code\n",
    "obj1 = Parent()\n",
    "obj2 = Child()\n",
    "\n",
    "obj1.show()\n",
    "obj2.show()\n"
   ]
  },
  {
   "cell_type": "code",
   "execution_count": null,
   "id": "08894eb4-041b-4d20-b970-cb817918646e",
   "metadata": {},
   "outputs": [],
   "source": []
  }
 ],
 "metadata": {
  "kernelspec": {
   "display_name": "Python 3 (ipykernel)",
   "language": "python",
   "name": "python3"
  },
  "language_info": {
   "codemirror_mode": {
    "name": "ipython",
    "version": 3
   },
   "file_extension": ".py",
   "mimetype": "text/x-python",
   "name": "python",
   "nbconvert_exporter": "python",
   "pygments_lexer": "ipython3",
   "version": "3.10.8"
  }
 },
 "nbformat": 4,
 "nbformat_minor": 5
}
